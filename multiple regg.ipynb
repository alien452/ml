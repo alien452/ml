{
 "cells": [
  {
   "cell_type": "code",
   "execution_count": 3,
   "metadata": {
    "colab": {
     "base_uri": "https://localhost:8080/",
     "height": 1000
    },
    "executionInfo": {
     "elapsed": 1179,
     "status": "ok",
     "timestamp": 1748424300779,
     "user": {
      "displayName": "MiCOR",
      "userId": "02307082861938875024"
     },
     "user_tz": -330
    },
    "id": "ui-zJEFd1GbG",
    "outputId": "1eae1615-9dfa-41b3-c770-ca7880597038"
   },
   "outputs": [
    {
     "ename": "ModuleNotFoundError",
     "evalue": "No module named 'pandas'",
     "output_type": "error",
     "traceback": [
      "\u001b[31m---------------------------------------------------------------------------\u001b[39m",
      "\u001b[31mModuleNotFoundError\u001b[39m                       Traceback (most recent call last)",
      "\u001b[36mCell\u001b[39m\u001b[36m \u001b[39m\u001b[32mIn[3]\u001b[39m\u001b[32m, line 1\u001b[39m\n\u001b[32m----> \u001b[39m\u001b[32m1\u001b[39m \u001b[38;5;28;01mimport\u001b[39;00m\u001b[38;5;250m \u001b[39m\u001b[34;01mpandas\u001b[39;00m\u001b[38;5;250m \u001b[39m\u001b[38;5;28;01mas\u001b[39;00m\u001b[38;5;250m \u001b[39m\u001b[34;01mpd\u001b[39;00m\n\u001b[32m      2\u001b[39m \u001b[38;5;28;01mfrom\u001b[39;00m\u001b[38;5;250m \u001b[39m\u001b[34;01msklearn\u001b[39;00m\u001b[34;01m.\u001b[39;00m\u001b[34;01mlinear_model\u001b[39;00m\u001b[38;5;250m \u001b[39m\u001b[38;5;28;01mimport\u001b[39;00m LinearRegression\n\u001b[32m      3\u001b[39m \u001b[38;5;28;01mfrom\u001b[39;00m\u001b[38;5;250m \u001b[39m\u001b[34;01msklearn\u001b[39;00m\u001b[34;01m.\u001b[39;00m\u001b[34;01mmodel_selection\u001b[39;00m\u001b[38;5;250m \u001b[39m\u001b[38;5;28;01mimport\u001b[39;00m train_test_split\n",
      "\u001b[31mModuleNotFoundError\u001b[39m: No module named 'pandas'"
     ]
    }
   ],
   "source": [
    "import pandas as pd\n",
    "from sklearn.linear_model import LinearRegression\n",
    "from sklearn.model_selection import train_test_split\n",
    "from sklearn.metrics import mean_squared_error, r2_score\n",
    "import matplotlib.pyplot as plt\n",
    "\n",
    "#1)retrieve the ataset\n",
    "data = {\n",
    "    'Hours_Studied': [10, 9, 2, 15, 10, 16, 11, 16, 5, 8],\n",
    "    'Attendance': [90, 80, 60, 95, 70, 98, 85, 100, 50, 75],\n",
    "    'Score': [85, 80, 40, 95, 60, 98, 85, 100, 45, 70]\n",
    "}\n",
    "df = pd.DataFrame(data)\n",
    "print(\"Dataset:\")\n",
    "print(df)\n",
    "\n",
    "#2) Prepare features and target\n",
    "X = df[['Hours_Studied', 'Attendance']]\n",
    "y = df['Score']\n",
    "\n",
    "#here we split dataset into training and testing sets\n",
    "X_train, X_test, y_train, y_test = train_test_split(X, y, test_size=0.3, random_state=42)\n",
    "\n",
    "#create and train the multiple linear regression model\n",
    "model = LinearRegression()\n",
    "model.fit(X_train, y_train)\n",
    "\n",
    "#predictinf the scores for test set\n",
    "y_pred = model.predict(X_test)\n",
    "\n",
    "#evaluate of the model\n",
    "mse = mean_squared_error(y_test, y_pred)\n",
    "r2 = r2_score(y_test, y_pred)\n",
    "\n",
    "#pinting coefficients and metrics\n",
    "print(\"\\nMultiple Linear Regression Model:\")\n",
    "print(\"Coefficients:\", model.coef_)\n",
    "print(\"Intercept:\", model.intercept_)\n",
    "print(f\"Mean Squared Error: {mse:.2f}\")\n",
    "print(f\"R-squared Score: {r2:.2f}\")\n",
    "\n",
    "#show actual vs predicted values\n",
    "print(\"\\nActual vs Predicted Scores:\")\n",
    "for actual, pred in zip(y_test, y_pred):\n",
    "    print(f\"Actual: {actual:.2f}, Predicted: {pred:.2f}\")\n",
    "\n",
    "#conclusion of the above code\n",
    "print(\"\\nConclusion:\")\n",
    "print(\"The model uses Hours Studied and Attendance to predict the Score.\")\n",
    "print(\"Coefficients indicate the influence of each feature on the score.\")\n",
    "print(\"The R-squared score near 1 suggests a good fit on this small dataset.\")\n",
    "print(\"Lower Mean Squared Error means the predictions are close to actual values.\")\n",
    "\n",
    "#visualization: actual vs predicted scores\n",
    "plt.figure(figsize=(8,5))\n",
    "plt.scatter(y_test, y_pred, color='pink', edgecolor='k', alpha=0.7)\n",
    "plt.plot([min(y_test), max(y_test)], [min(y_test), max(y_test)], 'r--')  # Reference line y=x\n",
    "plt.xlabel('Actual Scores')\n",
    "plt.ylabel('Predicted Scores')\n",
    "plt.title('Multiple Linear Regression: Actual vs Predicted Scores')\n",
    "plt.grid(True)\n",
    "plt.tight_layout()\n",
    "plt.show()\n"
   ]
  },
  {
   "cell_type": "code",
   "execution_count": null,
   "metadata": {
    "id": "Ok4py1FY2jS8"
   },
   "outputs": [],
   "source": []
  }
 ],
 "metadata": {
  "colab": {
   "authorship_tag": "ABX9TyOSpNABPqfl6TTKGCPnL9w1",
   "provenance": []
  },
  "kernelspec": {
   "display_name": "py313",
   "language": "python",
   "name": "python3"
  },
  "language_info": {
   "codemirror_mode": {
    "name": "ipython",
    "version": 3
   },
   "file_extension": ".py",
   "mimetype": "text/x-python",
   "name": "python",
   "nbconvert_exporter": "python",
   "pygments_lexer": "ipython3",
   "version": "3.13.3"
  }
 },
 "nbformat": 4,
 "nbformat_minor": 0
}
